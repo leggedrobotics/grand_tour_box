{
 "cells": [
  {
   "cell_type": "code",
   "execution_count": null,
   "metadata": {},
   "outputs": [],
   "source": [
    "from pathlib import Path\n",
    "import numpy as np\n",
    "from rosbag import Bag\n",
    "from pathlib import Path\n",
    "from scipy.interpolate import interp1d\n",
    "\n",
    "def get_bag(directory, pattern):\n",
    "    return [str(s) for s in Path(directory).rglob(pattern)][0]\n",
    "\n",
    "ptp_topics = {\n",
    "    \"/gt_box/health_status/jetson/status\" : (\"*_jetson_utils.bag\", [\"offset_ptp4l_mgbe0\", \"offset_phc2sys_mgbe0\"]),\n",
    "    \"/gt_box/health_status/nuc/status\": (\"*nuc_utils.bag\", [\"offset_ptp4l_enp45s0\", \"offset_phc2sys_enp45s0\",  \"offset_phc2sys_enp46s0\"]),\n",
    "}\n",
    "\n",
    "# Example usage\n",
    "directory = \"/mission_data\"  # Path where ROS bags are stored\n",
    "\n",
    "\n",
    "offsets = {}\n",
    "times = {}\n",
    "\n",
    "for topic, info in ptp_topics.items():\n",
    "    pattern = info[0]\n",
    "    bag_file = get_bag(directory, pattern)\n",
    "    fields = info[1]\n",
    "    \n",
    "    for field in fields:\n",
    "        offsets[field] = []\n",
    "        times[field] = []\n",
    "    \n",
    "    with Bag(bag_file, 'r') as bag:\n",
    "        for _topic_name, msg, t in bag.read_messages(topics=[topic]):\n",
    "            for field in fields:    \n",
    "                offsets[field].append(getattr(msg,field))\n",
    "                times[field].append(t.to_sec())\n",
    "            "
   ]
  },
  {
   "cell_type": "code",
   "execution_count": null,
   "metadata": {},
   "outputs": [],
   "source": [
    "import numpy as np\n",
    "import matplotlib.pyplot as plt\n",
    "\n",
    "# Start plotting\n",
    "plt.figure(figsize=(10, 6))\n",
    "\n",
    "k = 0\n",
    "# Loop through each key and array in the dictionary\n",
    "for ptp_name, ptp_offsets in offsets.items():\n",
    "    ptp_offset = np.array(ptp_offsets)\n",
    "    valid = ptp_offset != \"error_reading_offset\"\n",
    "    res = ptp_offset[valid]\n",
    "    tim = np.array(times[ptp_name])[valid]\n",
    "    # window_size = 100\n",
    "    # res = np.convolve(np.float32( res) , np.ones((window_size,)) / window_size, mode='valid')\n",
    "    plt.plot( res  , label=ptp_name)\n",
    "    k += 1\n",
    "    \n",
    "    # Add labels and title\n",
    "    plt.xlabel('Message Number - 1 Message per second')\n",
    "    plt.ylabel('PTP offsets in [ns]')\n",
    "    plt.title('PTP Sync over Time')\n",
    "    plt.legend()\n",
    "    plt.show()"
   ]
  },
  {
   "cell_type": "code",
   "execution_count": null,
   "metadata": {},
   "outputs": [],
   "source": []
  }
 ],
 "metadata": {
  "kernelspec": {
   "display_name": "Python 3",
   "language": "python",
   "name": "python3"
  },
  "language_info": {
   "codemirror_mode": {
    "name": "ipython",
    "version": 3
   },
   "file_extension": ".py",
   "mimetype": "text/x-python",
   "name": "python",
   "nbconvert_exporter": "python",
   "pygments_lexer": "ipython3",
   "version": "3.8.10"
  }
 },
 "nbformat": 4,
 "nbformat_minor": 2
}
