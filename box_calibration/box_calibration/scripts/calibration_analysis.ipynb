{
 "cells": [
  {
   "cell_type": "code",
   "execution_count": null,
   "id": "72e4ab83-9fdf-48e3-9b46-50274462ec93",
   "metadata": {},
   "outputs": [],
   "source": [
    "from box_auto.utils import WS\n",
    "import rosbag\n",
    "from tf_bag import BagTfTransformer\n",
    "from tf.transformations import quaternion_from_euler, quaternion_multiply\n",
    "from math import pi\n",
    "from pathlib import Path\n",
    "import yaml\n",
    "import copy\n",
    "\n",
    "# Compare extrinsics\n",
    "path = Path(WS) / \"src/grand_tour_box/box_calibration/box_calibration/calibration/\"\n",
    "\n",
    "frame_ids = [\n",
    "    \"alphasense_front_center\",\n",
    "    \"alphasense_front_left\",\n",
    "    \"alphasense_front_right\",\n",
    "    \"alphasense_left\",\n",
    "    \"alphasense_right\",\n",
    "    \"hdr_front\",\n",
    "    \"hdr_left\",\n",
    "    \"hdr_right\",\n",
    "    \"zed2i_right\",\n",
    "    \"zed2i_left\"\n",
    "]\n",
    "\n",
    "res = {}\n",
    "\n",
    "for p in sorted([str(s) for s in path.glob(\"*tf_static_metadata_new_*.bag\")]):\n",
    "    print(p)\n",
    "    tf_listener = BagTfTransformer(p)\n",
    "    res[p] = {}\n",
    "    for frame_id in frame_ids:\n",
    "        tf = tf_listener.lookupTransform(\"box_base\", frame_id, time=None, latest=True)\n",
    "        res[p][frame_id] = tf\n",
    "        \n",
    "    "
   ]
  },
  {
   "cell_type": "code",
   "execution_count": null,
   "id": "b6f8e0da-8fc1-4f4f-975d-c13ebede0869",
   "metadata": {},
   "outputs": [],
   "source": [
    "import matplotlib.pyplot as plt\n",
    "import numpy as np\n",
    "# Number of subplots based on frame_ids\n",
    "n_subplots = len(frame_ids)\n",
    "\n",
    "# Create subplots with shared y-axis and same scale for x-axis\n",
    "fig, ax = plt.subplots(n_subplots, 1, figsize=(10, 2*n_subplots), sharex=True)\n",
    "\n",
    "# Iterate through each subplot\n",
    "for i in range(n_subplots):\n",
    "    # Create lineplot\n",
    "    x_axis = [n for n in range(0, len(res))]  # X-axis based on the range of res\n",
    "\n",
    "    ref_position = np.array( list(res.values())[0][frame_ids[i]][0])\n",
    "    print(ref_position, list(res.values())[0][frame_ids[i]][0])\n",
    "    y_axis = [np.linalg.norm(ref_position - np.array(list(res.values())[j][frame_ids[i]][0])) for j in range(len(res))]  # Y-axis data from res\n",
    "    \n",
    "    ax[i].plot(x_axis, y_axis)\n",
    "    ax[i].set_title(f\"Position offset over time in [m]:  {frame_ids[i]}\")\n",
    "    ax[i].set_xlabel(\"Metadata number\")\n",
    "    ax[i].set_ylabel(\"L2 Norm Position\")\n",
    "    ax[i].set_ylim(min(y_axis)*0.999,max(y_axis)*1.0001)\n",
    "    \n",
    "# Improve layout and display\n",
    "plt.tight_layout()\n",
    "plt.show()"
   ]
  }
 ],
 "metadata": {
  "kernelspec": {
   "display_name": "Python 3 (ipykernel)",
   "language": "python",
   "name": "python3"
  },
  "language_info": {
   "codemirror_mode": {
    "name": "ipython",
    "version": 3
   },
   "file_extension": ".py",
   "mimetype": "text/x-python",
   "name": "python",
   "nbconvert_exporter": "python",
   "pygments_lexer": "ipython3",
   "version": "3.8.10"
  }
 },
 "nbformat": 4,
 "nbformat_minor": 5
}
